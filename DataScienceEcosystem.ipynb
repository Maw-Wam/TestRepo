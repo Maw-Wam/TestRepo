{
 "cells": [
  {
   "cell_type": "markdown",
   "id": "b7ac9217-6180-43f8-851a-b9d38981ef23",
   "metadata": {},
   "source": [
    "# Data Science Tools and Ecosystem"
   ]
  },
  {
   "cell_type": "markdown",
   "id": "a4474761-b839-422b-93c1-9b316f4644db",
   "metadata": {},
   "source": [
    "In this notebook, Data Science Tools and Ecosystem are summarized."
   ]
  },
  {
   "cell_type": "markdown",
   "id": "7f291ea1-e44b-4c4d-a93b-273edc925116",
   "metadata": {},
   "source": [
    "## Author\n",
    "Mawa Yoshida\n",
    "\n",
    "**objectives:**\n",
    "|Data Science Tools|\n",
    "|-----------------------|\n",
    "|jupyter|\n",
    "|Rstudio|\n",
    "|microsoft visual studio|"
   ]
  },
  {
   "cell_type": "markdown",
   "id": "09f97b40-725b-4091-b37a-2c47509678e7",
   "metadata": {},
   "source": [
    "Some of the popular languages that Data Scientists use are:\n",
    "  \n",
    "  1. python\n",
    "  1. R\n",
    "  1. javascript\n",
    "  1. julia"
   ]
  },
  {
   "attachments": {},
   "cell_type": "markdown",
   "id": "6c1c92ee-d5f4-421b-9d5a-4bfe27c32aa1",
   "metadata": {},
   "source": [
    "Some of the commonly used libraries used by Data Scientists include:\n",
    "1. pandas\n",
    "2. numpy\n",
    "3. scipy\n",
    "4. matplotlib"
   ]
  },
  {
   "cell_type": "markdown",
   "id": "ded2c94a-6ad4-4707-8ef1-c3bc5d3a8c05",
   "metadata": {},
   "source": [
    "|Data Science Tools|\n",
    "|-----------------------|\n",
    "|jupyter|\n",
    "|Rstudio|\n",
    "|microsoft visual studio|\n"
   ]
  },
  {
   "cell_type": "markdown",
   "id": "1be5365c-fbe2-4b9d-8446-e198388fb04b",
   "metadata": {},
   "source": [
    "### Below are a few examples of evaluating arithmetic expressions in Python"
   ]
  },
  {
   "cell_type": "code",
   "execution_count": 8,
   "id": "1b361e8e-64ca-4e28-862b-2547370a6590",
   "metadata": {},
   "outputs": [],
   "source": [
    "#This is a simple arithmetic expression to mutiply then add integers"
   ]
  },
  {
   "cell_type": "code",
   "execution_count": 1,
   "id": "bb3fb7fd-9f19-46c3-847a-e3a659fa68fc",
   "metadata": {},
   "outputs": [
    {
     "data": {
      "text/plain": [
       "17"
      ]
     },
     "execution_count": 1,
     "metadata": {},
     "output_type": "execute_result"
    }
   ],
   "source": [
    "(3*4)+5"
   ]
  },
  {
   "cell_type": "code",
   "execution_count": 10,
   "id": "9beab478-a85b-414b-a1f4-8fe456646365",
   "metadata": {},
   "outputs": [],
   "source": [
    "#This will convert 200 minutes to hours by diving by 60"
   ]
  },
  {
   "cell_type": "code",
   "execution_count": 16,
   "id": "b46f09f1-31cc-439f-86d2-db5acf21f2ba",
   "metadata": {},
   "outputs": [
    {
     "data": {
      "text/plain": [
       "3.3333333333333335"
      ]
     },
     "execution_count": 16,
     "metadata": {},
     "output_type": "execute_result"
    }
   ],
   "source": [
    "200/60"
   ]
  },
  {
   "cell_type": "code",
   "execution_count": null,
   "id": "5e7b72f8-8f98-4ab4-8ed8-57b03cf4e163",
   "metadata": {},
   "outputs": [],
   "source": []
  }
 ],
 "metadata": {
  "kernelspec": {
   "display_name": "Python 3 (ipykernel)",
   "language": "python",
   "name": "python3"
  },
  "language_info": {
   "codemirror_mode": {
    "name": "ipython",
    "version": 3
   },
   "file_extension": ".py",
   "mimetype": "text/x-python",
   "name": "python",
   "nbconvert_exporter": "python",
   "pygments_lexer": "ipython3",
   "version": "3.12.9"
  }
 },
 "nbformat": 4,
 "nbformat_minor": 5
}
